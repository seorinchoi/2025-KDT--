{
 "cells": [
  {
   "cell_type": "code",
   "execution_count": 1,
   "id": "9be757ab",
   "metadata": {},
   "outputs": [
    {
     "data": {
      "application/vnd.jupyter.widget-view+json": {
       "model_id": "2a538d311b6743b69427d45805259063",
       "version_major": 2,
       "version_minor": 0
      },
      "text/plain": [
       "config.json: 0.00B [00:00, ?B/s]"
      ]
     },
     "metadata": {},
     "output_type": "display_data"
    },
    {
     "data": {
      "application/vnd.jupyter.widget-view+json": {
       "model_id": "526dd8c5db9a40099c80267ac4b6ba0b",
       "version_major": 2,
       "version_minor": 0
      },
      "text/plain": [
       "model.safetensors:   0%|          | 0.00/2.56G [00:00<?, ?B/s]"
      ]
     },
     "metadata": {},
     "output_type": "display_data"
    },
    {
     "data": {
      "application/vnd.jupyter.widget-view+json": {
       "model_id": "2549c69097924b48aa9334686cdb7df3",
       "version_major": 2,
       "version_minor": 0
      },
      "text/plain": [
       "generation_config.json:   0%|          | 0.00/134 [00:00<?, ?B/s]"
      ]
     },
     "metadata": {},
     "output_type": "display_data"
    },
    {
     "data": {
      "application/vnd.jupyter.widget-view+json": {
       "model_id": "623f09950d1747a996eb9f0e801d6a92",
       "version_major": 2,
       "version_minor": 0
      },
      "text/plain": [
       "tokenizer_config.json: 0.00B [00:00, ?B/s]"
      ]
     },
     "metadata": {},
     "output_type": "display_data"
    },
    {
     "data": {
      "application/vnd.jupyter.widget-view+json": {
       "model_id": "b123d83c3e9643a89eb47416a60d8d8a",
       "version_major": 2,
       "version_minor": 0
      },
      "text/plain": [
       "vocab.json: 0.00B [00:00, ?B/s]"
      ]
     },
     "metadata": {},
     "output_type": "display_data"
    },
    {
     "data": {
      "application/vnd.jupyter.widget-view+json": {
       "model_id": "04f598e62f0c45d6be41830923304a7c",
       "version_major": 2,
       "version_minor": 0
      },
      "text/plain": [
       "merges.txt: 0.00B [00:00, ?B/s]"
      ]
     },
     "metadata": {},
     "output_type": "display_data"
    },
    {
     "data": {
      "application/vnd.jupyter.widget-view+json": {
       "model_id": "a8b70135d303408ebb7e6dd0dae83e04",
       "version_major": 2,
       "version_minor": 0
      },
      "text/plain": [
       "tokenizer.json: 0.00B [00:00, ?B/s]"
      ]
     },
     "metadata": {},
     "output_type": "display_data"
    },
    {
     "data": {
      "application/vnd.jupyter.widget-view+json": {
       "model_id": "f3ae26d2cfd546f9980ab1a8e15fd882",
       "version_major": 2,
       "version_minor": 0
      },
      "text/plain": [
       "special_tokens_map.json: 0.00B [00:00, ?B/s]"
      ]
     },
     "metadata": {},
     "output_type": "display_data"
    },
    {
     "data": {
      "application/vnd.jupyter.widget-view+json": {
       "model_id": "19b4934b98f74577b4abcfece658a0d2",
       "version_major": 2,
       "version_minor": 0
      },
      "text/plain": [
       "chat_template.jinja: 0.00B [00:00, ?B/s]"
      ]
     },
     "metadata": {},
     "output_type": "display_data"
    },
    {
     "name": "stderr",
     "output_type": "stream",
     "text": [
      "Device set to use cuda:0\n"
     ]
    },
    {
     "data": {
      "text/plain": [
       "[{'generated_text': [{'role': 'user', 'content': 'Who are you?'},\n",
       "   {'role': 'assistant',\n",
       "    'content': 'I am EXAONE, developed by LG AI Research. My purpose is to assist users by understanding and responding to their inquiries accurately and efficiently.'}]}]"
      ]
     },
     "execution_count": 1,
     "metadata": {},
     "output_type": "execute_result"
    }
   ],
   "source": [
    "# Use a pipeline as a high-level helper\n",
    "from transformers import pipeline\n",
    "\n",
    "pipe = pipeline(\"text-generation\", model=\"LGAI-EXAONE/EXAONE-4.0-1.2B\")\n",
    "messages = [\n",
    "    {\"role\": \"user\", \"content\": \"Who are you?\"},\n",
    "]\n",
    "pipe(messages)"
   ]
  },
  {
   "cell_type": "code",
   "execution_count": null,
   "id": "030d7190",
   "metadata": {},
   "outputs": [],
   "source": [
    "messages = [\n",
    "    {\"role\": \"system\", \"content\": \"\"\"\n",
    "# 지시사항\n",
    "- 당신은 수십 년 경력의 작물 병해 전문가입니다.\n",
    "- 당신의 임무는 아래 [사용자 정보]와 [참고 자료]를 바탕으로 사용자의 질문에 답변하는 것입니다.\n",
    "- 참고 자료에 있는 내용을 전부다 이야기 할 필요는 없습니다. 필요한 내용만 설명하세요.\n",
    "- 자기소개나 불필요한 이야기는 하지 말고 정중하되, 간략한 표현을 사용하세요.\n",
    "\n",
    "# 사용자 정보\n",
    "- 신분: 초보 농업인\n",
    "- 작물 종류: 가지\n",
    "- 발생 질병: 갈색둥근무늬병일 확률 50%\n",
    "\n",
    "# 참고 자료: 작물 병해 도감\n",
    "- 작물: 가지\n",
    "- 질병명: 갈색둥근무늬병\n",
    "- 증상설명: \n",
    "     주로 잎에 발생한다. 병반은 처음 황갈색의 작은 반점으로 나타나고, 진전되면 5～6㎜의 큰 병반으로 확대되기도 한다.\n",
    "     병반 주위는 연한 갈색의 병무늬로 나타나고, 점차 진한 병무늬가 형성되며, 병반의 중앙은 회백색으로 변한다.\n",
    "     오래된 병반 중앙부에는 암회색의 분생포자가 형성되고, 심하면 그 중앙부의 조직이 파열되어 구멍이 뚫리기도 한다.\n",
    "     심하게 진전되면 잎 전체가 마르고 떨어진다.\n",
    "- 방제방법:\n",
    "     - 건전 종자를 사용한다.\n",
    "     - 균형시비를 하여 건전한 생육을 유도한다.\n",
    "     - 과습하지 않도록 한다.\n",
    "     - 병든 잎은 모아 태우거나 땅에 묻는다.\n",
    "\n",
    "---\n",
    "이제 위의 정보를 바탕으로 사용자의 질문에 답변을 시작하세요.\n",
    "\"\"\"},\n",
    "\n",
    "    {\"role\": \"user\", \"content\": \"제 작물에 병이 생겼는데, 이게 무슨 병이고 이제 어떻게 해야하죠?\"}\n",
    "]"
   ]
  },
  {
   "cell_type": "code",
   "execution_count": 3,
   "id": "584c78fa",
   "metadata": {},
   "outputs": [],
   "source": [
    "outputs = pipe(\n",
    "    messages,\n",
    "    max_new_tokens=1024, \n",
    "    eos_token_id=pipe.tokenizer.eos_token_id,\n",
    "    do_sample=True,\n",
    "    temperature=0.7,                      \n",
    "    top_p=0.9  \n",
    ")"
   ]
  },
  {
   "cell_type": "code",
   "execution_count": 4,
   "id": "11fb8f17",
   "metadata": {},
   "outputs": [
    {
     "data": {
      "text/plain": [
       "[{'generated_text': [{'role': 'system',\n",
       "    'content': '\\n# 지시사항\\n- 당신은 수십 년 경력의 작물 병해 전문가입니다.\\n- 당신의 임무는 아래 [사용자 정보]와 [참고 자료]를 바탕으로 사용자의 질문에 답변하는 것입니다.\\n- 참고 자료에 있는 내용을 전부다 이야기 할 필요는 없습니다. 필요한 내용만 설명하세요.\\n- 자기소개나 불필요한 이야기는 하지 말고 정중하되, 간략한 표현을 사용하세요.\\n\\n# 사용자 정보\\n- 신분: 초보 농업인\\n- 작물 종류: 가지\\n- 발생 질병: 갈색둥근무늬병일 확률 90%\\n\\n# 참고 자료: 작물 병해 도감\\n- 작물: 가지\\n- 질병명: 갈색둥근무늬병\\n- 증상설명: \\n     주로 잎에 발생한다. 병반은 처음 황갈색의 작은 반점으로 나타나고, 진전되면 5～6㎜의 큰 병반으로 확대되기도 한다.\\n     병반 주위는 연한 갈색의 병무늬로 나타나고, 점차 진한 병무늬가 형성되며, 병반의 중앙은 회백색으로 변한다.\\n     오래된 병반 중앙부에는 암회색의 분생포자가 형성되고, 심하면 그 중앙부의 조직이 파열되어 구멍이 뚫리기도 한다.\\n     심하게 진전되면 잎 전체가 마르고 떨어진다.\\n- 방제방법:\\n     - 건전 종자를 사용한다.\\n     - 균형시비를 하여 건전한 생육을 유도한다.\\n     - 과습하지 않도록 한다.\\n     - 병든 잎은 모아 태우거나 땅에 묻는다.\\n\\n---\\n이제 위의 정보를 바탕으로 사용자의 질문에 답변을 시작하세요.\\n'},\n",
       "   {'role': 'user', 'content': '제 작물에 병이 생겼는데, 이게 무슨 병이고 이제 어떻게 해야하죠?'},\n",
       "   {'role': 'assistant',\n",
       "    'content': '갈색둥근무늬병이 의심됩니다. 증상은 잎에 황갈색 작은 반점이 시작되어 점차 확대되는 것이 특징이며, 수확량 감소로 이어질 수 있습니다. 방제를 위해 건전 종자 선택, 과습 방지, 병든 부위 제거 및 소각 등을 즉시 실행하시길 권장드립니다.'}]}]"
      ]
     },
     "execution_count": 4,
     "metadata": {},
     "output_type": "execute_result"
    }
   ],
   "source": [
    "outputs"
   ]
  },
  {
   "cell_type": "code",
   "execution_count": null,
   "id": "3ef882ef",
   "metadata": {},
   "outputs": [],
   "source": []
  }
 ],
 "metadata": {
  "kernelspec": {
   "display_name": "test4",
   "language": "python",
   "name": "python3"
  },
  "language_info": {
   "codemirror_mode": {
    "name": "ipython",
    "version": 3
   },
   "file_extension": ".py",
   "mimetype": "text/x-python",
   "name": "python",
   "nbconvert_exporter": "python",
   "pygments_lexer": "ipython3",
   "version": "3.11.13"
  }
 },
 "nbformat": 4,
 "nbformat_minor": 5
}
